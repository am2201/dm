{
 "cells": [
  {
   "cell_type": "code",
   "execution_count": 6,
   "id": "f77817e9-73c0-418b-bdd7-d8d02b50273e",
   "metadata": {},
   "outputs": [
    {
     "name": "stdout",
     "output_type": "stream",
     "text": [
      "File 'people.txt' created successfully.\n"
     ]
    }
   ],
   "source": [
    "# Create a new text file named \"people.txt\"\n",
    "file_path = \"people.txt\"\n",
    "\n",
    "# Open the file in write mode\n",
    "with open(file_path, 'w') as file:\n",
    "    file.write(\"Age,agegroup,height,status,yearsmarried\\n\")\n",
    "    file.write(\"21,adult,6.0,single,-1\\n\")\n",
    "    file.write(\"2,child,3.0,married,0\\n\")\n",
    "    file.write(\"18,adult,5.7,married,20\\n\")\n",
    "    file.write(\"221,elderly,5.0,widowed,2\\n\")\n",
    "    file.write(\"34,child,-7.0,married,3\\n\")\n",
    "\n",
    "print(f\"File '{file_path}' created successfully.\")\n"
   ]
  },
  {
   "cell_type": "code",
   "execution_count": 7,
   "id": "acd036b8-2974-4461-87ee-4a008455952a",
   "metadata": {},
   "outputs": [],
   "source": [
    "# Read data from \"people.txt\"\n",
    "def read_data(file_path):\n",
    "    data = []\n",
    "    with open(file_path, 'r') as file:\n",
    "        next(file)  # Skip the header line\n",
    "        for line in file:\n",
    "            entry = line.strip().split(',')\n",
    "            data.append({\n",
    "                'Age': int(entry[0]),\n",
    "                'agegroup': entry[1],\n",
    "                'height': float(entry[2]),\n",
    "                'status': entry[3],\n",
    "                'yearsmarried': int(entry[4])\n",
    "            })\n",
    "    return data"
   ]
  },
  {
   "cell_type": "code",
   "execution_count": 8,
   "id": "8cb28f65-eed8-4922-9c32-df0c91e70f8a",
   "metadata": {},
   "outputs": [],
   "source": [
    "def check_age_range(age):\n",
    "    return 0 <= age <= 150\n",
    "\n",
    "def check_age_greater_than_years_married(age, years_married):\n",
    "    return age > years_married\n",
    "\n",
    "def check_status(status):\n",
    "    return status in {\"married\", \"single\", \"widowed\"}\n",
    "\n",
    "def determine_age_group(age):\n",
    "    if age < 18:\n",
    "        return \"child\"\n",
    "    elif 18 <= age <= 65:\n",
    "        return \"adult\"\n",
    "    else:\n",
    "        return \"elderly\"\n",
    "        \n",
    "#Defining the Ruleset\n",
    "ruleset = {\n",
    "    \"age_range\": check_age_range,\n",
    "    \"age_greater_than_years_married\": check_age_greater_than_years_married,\n",
    "    \"status_valid\": check_status,\n",
    "    \"age_group\": determine_age_group\n",
    "}"
   ]
  },
  {
   "cell_type": "code",
   "execution_count": 9,
   "id": "25aaae82-44e9-4d5b-a8e8-62d96622d4c8",
   "metadata": {},
   "outputs": [],
   "source": [
    "# Violation Check\n",
    "def check_violations(entry):\n",
    "    violations = []\n",
    "    if not (0 <= entry['Age'] <= 150):\n",
    "        violations.append(\"Age out of range\")\n",
    "    if entry['Age'] <= entry['yearsmarried']:\n",
    "        violations.append(\"Age not greater than years married\")\n",
    "    if entry['status'] not in {\"married\", \"single\", \"widowed\"}:\n",
    "        violations.append(\"Invalid status\")\n",
    "    age_group = determine_age_group(entry['Age'])\n",
    "    if age_group != entry['agegroup']:\n",
    "        violations.append(f\"Age group mismatch: expected {age_group}, got {entry['agegroup']}\")\n",
    "    return violations"
   ]
  },
  {
   "cell_type": "code",
   "execution_count": 10,
   "id": "48d929de-f0cb-4721-af2a-9f87ec73d76c",
   "metadata": {},
   "outputs": [
    {
     "name": "stdout",
     "output_type": "stream",
     "text": [
      "{'Age': 21, 'agegroup': 'adult', 'height': 6.0, 'status': 'single', 'yearsmarried': -1}\n",
      "{'Age': 2, 'agegroup': 'child', 'height': 3.0, 'status': 'married', 'yearsmarried': 0}\n",
      "{'Age': 18, 'agegroup': 'adult', 'height': 5.7, 'status': 'married', 'yearsmarried': 20}\n",
      "{'Age': 221, 'agegroup': 'elderly', 'height': 5.0, 'status': 'widowed', 'yearsmarried': 2}\n",
      "{'Age': 34, 'agegroup': 'child', 'height': -7.0, 'status': 'married', 'yearsmarried': 3}\n"
     ]
    }
   ],
   "source": [
    "data = read_data(\"people.txt\")\n",
    "for entry in data:\n",
    "    print(entry)"
   ]
  },
  {
   "cell_type": "code",
   "execution_count": 11,
   "id": "d8ad0450-a5b9-403f-9f09-0d1414a9d31d",
   "metadata": {},
   "outputs": [
    {
     "name": "stdout",
     "output_type": "stream",
     "text": [
      "Violations:\n",
      "18: Age not greater than years married\n",
      "221: Age out of range\n",
      "34: Age group mismatch: expected adult, got child\n"
     ]
    }
   ],
   "source": [
    "# Load data and check violations\n",
    "data = read_data(\"people.txt\")\n",
    "all_violations = []\n",
    "for entry in data:\n",
    "    violations = check_violations(entry)\n",
    "    if violations:\n",
    "        all_violations.append((entry['Age'], violations))\n",
    "\n",
    "print(\"Violations:\")\n",
    "for name, v in all_violations:\n",
    "    print(f\"{name}: {', '.join(v)}\")\n"
   ]
  },
  {
   "cell_type": "markdown",
   "id": "9e48a2c6-6240-4ad2-a6e7-6696c068ac4e",
   "metadata": {},
   "source": [
    "**Q2**"
   ]
  },
  {
   "cell_type": "code",
   "execution_count": null,
   "id": "5f266344-36af-4c4a-8b32-b09a700feb20",
   "metadata": {},
   "outputs": [],
   "source": []
  }
 ],
 "metadata": {
  "kernelspec": {
   "display_name": "Python 3 (ipykernel)",
   "language": "python",
   "name": "python3"
  },
  "language_info": {
   "codemirror_mode": {
    "name": "ipython",
    "version": 3
   },
   "file_extension": ".py",
   "mimetype": "text/x-python",
   "name": "python",
   "nbconvert_exporter": "python",
   "pygments_lexer": "ipython3",
   "version": "3.11.4"
  }
 },
 "nbformat": 4,
 "nbformat_minor": 5
}
