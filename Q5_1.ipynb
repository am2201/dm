{
 "cells": [
  {
   "cell_type": "code",
   "execution_count": 1,
   "id": "ca52f405-f368-43d5-9b9b-e281e7a1eab6",
   "metadata": {},
   "outputs": [],
   "source": [
    "import numpy as np\n",
    "import pandas as pd\n",
    "from sklearn.datasets import load_iris, load_wine\n",
    "from sklearn.model_selection import train_test_split\n",
    "from sklearn.naive_bayes import GaussianNB\n",
    "from sklearn.neighbors import KNeighborsClassifier\n",
    "from sklearn.tree import DecisionTreeClassifier\n",
    "from sklearn.metrics import accuracy_score"
   ]
  },
  {
   "cell_type": "markdown",
   "id": "1477b984-6567-417e-b395-70b80bb53542",
   "metadata": {},
   "source": [
    "**IRIS DATASET**"
   ]
  },
  {
   "cell_type": "code",
   "execution_count": null,
   "id": "dc8d174a-29b8-421e-a09d-68244b92326f",
   "metadata": {},
   "outputs": [],
   "source": [
    "iris = load_iris()\n",
    "X, y = iris.data, iris.target\n",
    "\n",
    "# Split the dataset into training (75%) and test (25%) sets\n",
    "X_train, X_test, y_train, y_test = train_test_split(X, y, test_size=0.25, random_state=42)\n",
    "\n",
    "# Initialize classifiers\n",
    "nb_classifier = GaussianNB()\n",
    "knn_classifier = KNeighborsClassifier(n_neighbors=3)\n",
    "dt_classifier = DecisionTreeClassifier(random_state=42)\n",
    "\n",
    "# Fit classifiers to training data\n",
    "nb_classifier.fit(X_train, y_train)\n",
    "knn_classifier.fit(X_train, y_train)\n",
    "dt_classifier.fit(X_train, y_train)\n",
    "\n",
    "# Make predictions on test data\n",
    "nb_predictions = nb_classifier.predict(X_test)\n",
    "knn_predictions = knn_classifier.predict(X_test)\n",
    "dt_predictions = dt_classifier.predict(X_test)\n",
    "\n",
    "# Calculate accuracy for each classifier\n",
    "nb_accuracy = accuracy_score(y_test, nb_predictions)\n",
    "knn_accuracy = accuracy_score(y_test, knn_predictions)\n",
    "dt_accuracy = accuracy_score(y_test, dt_predictions)\n",
    "\n",
    "print(f\"Naive Bayes Accuracy: {nb_accuracy:.4f}\")\n",
    "print(f\"K-Nearest Neighbors Accuracy: {knn_accuracy:.4f}\")\n",
    "print(f\"Decision Tree Accuracy: {dt_accuracy:.4f}\")\n"
   ]
  },
  {
   "cell_type": "code",
   "execution_count": 5,
   "id": "6d7821c5-896f-4fc2-9d54-432b773fc689",
   "metadata": {},
   "outputs": [
    {
     "name": "stdout",
     "output_type": "stream",
     "text": [
      "Naive Bayes Accuracy: 0.9600\n",
      "K-Nearest Neighbors Accuracy: 0.9800\n",
      "Decision Tree Accuracy: 0.9800\n"
     ]
    }
   ],
   "source": [
    "#Split the dataset into training (66.6%) and test (33.3%) sets\n",
    "X_train_, X_test_, y_train_, y_test_ = train_test_split(X, y, test_size=0.333, random_state=42)\n",
    "\n",
    "nb = GaussianNB()\n",
    "knn = KNeighborsClassifier(n_neighbors=3)\n",
    "decision_tree = DecisionTreeClassifier(criterion='entropy', random_state=42)\n",
    "\n",
    "nb.fit(X_train_, y_train_)\n",
    "knn.fit(X_train_, y_train_)\n",
    "decision_tree.fit(X_train_, y_train_)\n",
    "\n",
    "nb_pred = nb.predict(X_test_)\n",
    "knn_pred = knn.predict(X_test_)\n",
    "tree_pred = decision_tree.predict(X_test_)\n",
    "\n",
    "nb_acc = accuracy_score(y_test_, nb_pred)\n",
    "knn_acc = accuracy_score(y_test_, knn_pred)\n",
    "tree_acc = accuracy_score(y_test_, tree_pred)\n",
    "\n",
    "print(f\"Naive Bayes Accuracy: {nb_acc:.4f}\")\n",
    "print(f\"K-Nearest Neighbors Accuracy: {knn_acc:.4f}\")\n",
    "print(f\"Decision Tree Accuracy: {tree_acc:.4f}\")\n"
   ]
  },
  {
   "cell_type": "markdown",
   "id": "3e9d17a8-1d0c-474b-a90b-413379246cbf",
   "metadata": {},
   "source": [
    "**WINE DATASET** "
   ]
  },
  {
   "cell_type": "code",
   "execution_count": 8,
   "id": "bb7c7761-dabc-4281-91e8-8ea983d2deab",
   "metadata": {},
   "outputs": [],
   "source": [
    "wine = load_wine()\n",
    "X_wine = wine.data\n",
    "y_wine = wine.target"
   ]
  },
  {
   "cell_type": "code",
   "execution_count": 10,
   "id": "4edc447d-8e3e-4b6c-9d27-ee240b20b298",
   "metadata": {},
   "outputs": [
    {
     "name": "stdout",
     "output_type": "stream",
     "text": [
      "Naive Bayes Accuracy: 0.9737\n",
      "K-Nearest Neighbors Accuracy: 1.0000\n",
      "Decision Tree Accuracy: 1.0000\n"
     ]
    }
   ],
   "source": [
    "#Split the dataset into training (75%) and test (25%) sets\n",
    "X_train1, X_test1, y_train1, y_test1 = train_test_split(X, y, test_size=0.25, random_state=42)\n",
    "\n",
    "nb1 = GaussianNB()\n",
    "knn1 = KNeighborsClassifier(n_neighbors=3)\n",
    "decision_tree1 = DecisionTreeClassifier(criterion='entropy', random_state=42)\n",
    "\n",
    "nb1.fit(X_train1, y_train1)\n",
    "knn1.fit(X_train1, y_train1)\n",
    "decision_tree1.fit(X_train1, y_train1)\n",
    "\n",
    "nb_pred1 = nb.predict(X_test1)\n",
    "knn_pred1 = knn.predict(X_test1)\n",
    "tree_pred1 = decision_tree.predict(X_test1)\n",
    "\n",
    "nb_acc1 = accuracy_score(y_test1, nb_pred1)\n",
    "knn_acc1 = accuracy_score(y_test1, knn_pred1)\n",
    "tree_acc1 = accuracy_score(y_test1, tree_pred1)\n",
    "\n",
    "print(f\"Naive Bayes Accuracy: {nb_acc1:.4f}\")\n",
    "print(f\"K-Nearest Neighbors Accuracy: {knn_acc1:.4f}\")\n",
    "print(f\"Decision Tree Accuracy: {tree_acc1:.4f}\")"
   ]
  },
  {
   "cell_type": "code",
   "execution_count": 11,
   "id": "ea1b07a0-8620-46a1-991e-860c250d06fe",
   "metadata": {},
   "outputs": [
    {
     "name": "stdout",
     "output_type": "stream",
     "text": [
      "Naive Bayes Accuracy: 0.9600\n",
      "K-Nearest Neighbors Accuracy: 0.9800\n",
      "Decision Tree Accuracy: 0.9800\n"
     ]
    }
   ],
   "source": [
    "#Split the dataset into training (66.6%) and test (33.3%) sets\n",
    "X_train2, X_test2, y_train2, y_test2 = train_test_split(X, y, test_size=0.333, random_state=42)\n",
    "\n",
    "nb2 = GaussianNB()\n",
    "knn2 = KNeighborsClassifier(n_neighbors=3)\n",
    "decision_tree2 = DecisionTreeClassifier(criterion='entropy', random_state=42)\n",
    "\n",
    "nb2.fit(X_train2, y_train2)\n",
    "knn2.fit(X_train2, y_train2)\n",
    "decision_tree2.fit(X_train2, y_train2)\n",
    "\n",
    "nb_pred2 = nb.predict(X_test2)\n",
    "knn_pred2 = knn.predict(X_test2)\n",
    "tree_pred2 = decision_tree.predict(X_test2)\n",
    "\n",
    "nb_acc2 = accuracy_score(y_test2, nb_pred2)\n",
    "knn_acc2 = accuracy_score(y_test2, knn_pred2)\n",
    "tree_acc2 = accuracy_score(y_test2, tree_pred2)\n",
    "\n",
    "print(f\"Naive Bayes Accuracy: {nb_acc2:.4f}\")\n",
    "print(f\"K-Nearest Neighbors Accuracy: {knn_acc2:.4f}\")\n",
    "print(f\"Decision Tree Accuracy: {tree_acc2:.4f}\")"
   ]
  },
  {
   "cell_type": "code",
   "execution_count": null,
   "id": "031abdae-64fb-4b72-bf65-2eb32628751c",
   "metadata": {},
   "outputs": [],
   "source": []
  }
 ],
 "metadata": {
  "kernelspec": {
   "display_name": "Python 3 (ipykernel)",
   "language": "python",
   "name": "python3"
  },
  "language_info": {
   "codemirror_mode": {
    "name": "ipython",
    "version": 3
   },
   "file_extension": ".py",
   "mimetype": "text/x-python",
   "name": "python",
   "nbconvert_exporter": "python",
   "pygments_lexer": "ipython3",
   "version": "3.11.4"
  }
 },
 "nbformat": 4,
 "nbformat_minor": 5
}
