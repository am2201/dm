{
 "cells": [
  {
   "cell_type": "markdown",
   "id": "21264bec-93d6-4dce-92a8-1429cd3191ff",
   "metadata": {},
   "source": [
    "**Iris Dataset**"
   ]
  },
  {
   "cell_type": "code",
   "execution_count": 2,
   "id": "8f9d7c79-3284-45dc-a72e-05cf663adf7d",
   "metadata": {},
   "outputs": [
    {
     "name": "stdout",
     "output_type": "stream",
     "text": [
      "K-Means Silhouette Score: 0.46\n",
      "DBScan Silhouette Score: 0.36\n",
      "Hierarchical Silhouette Score: 0.45\n"
     ]
    }
   ],
   "source": [
    "import numpy as np\n",
    "import pandas as pd\n",
    "import matplotlib.pyplot as plt\n",
    "from sklearn.datasets import load_iris\n",
    "from sklearn.cluster import KMeans, DBSCAN, AgglomerativeClustering\n",
    "from sklearn.preprocessing import StandardScaler\n",
    "from sklearn.metrics import silhouette_score\n",
    "\n",
    "# Load the Iris dataset\n",
    "iris = load_iris()\n",
    "X = iris.data\n",
    "\n",
    "# Standardize the features\n",
    "scaler = StandardScaler()\n",
    "X_scaled = scaler.fit_transform(X)\n",
    "\n",
    "# Initialize clustering algorithms\n",
    "kmeans = KMeans(n_clusters=3, random_state=42, n_init=10)\n",
    "dbscan = DBSCAN(eps=0.5, min_samples=5)\n",
    "hierarchical = AgglomerativeClustering(n_clusters=3)\n",
    "\n",
    "# Fit the models\n",
    "kmeans.fit(X_scaled)\n",
    "dbscan.fit(X_scaled)\n",
    "hierarchical.fit(X_scaled)\n",
    "\n",
    "# Evaluate the performance\n",
    "kmeans_silhouette = silhouette_score(X_scaled, kmeans.labels_)\n",
    "dbscan_silhouette = silhouette_score(X_scaled, dbscan.labels_)\n",
    "hierarchical_silhouette = silhouette_score(X_scaled, hierarchical.labels_)\n",
    "\n",
    "print(f\"K-Means Silhouette Score: {kmeans_silhouette:.2f}\")\n",
    "print(f\"DBScan Silhouette Score: {dbscan_silhouette:.2f}\")\n",
    "print(f\"Hierarchical Silhouette Score: {hierarchical_silhouette:.2f}\")\n"
   ]
  },
  {
   "cell_type": "markdown",
   "id": "7d87b2f3-af46-477f-9f9b-bd936d1ead3f",
   "metadata": {},
   "source": [
    "**Wine Dataset**"
   ]
  },
  {
   "cell_type": "code",
   "execution_count": 6,
   "id": "2cde51ba-a121-464c-aa39-746f689e7d56",
   "metadata": {},
   "outputs": [
    {
     "name": "stdout",
     "output_type": "stream",
     "text": [
      "K-Means Silhouette Score: 0.28\n",
      "Hierarchical Silhouette Score: 0.28\n"
     ]
    }
   ],
   "source": [
    "from sklearn.datasets import load_wine\n",
    "from sklearn.preprocessing import StandardScaler\n",
    "from sklearn.cluster import KMeans, DBSCAN, AgglomerativeClustering\n",
    "from sklearn.metrics import silhouette_score\n",
    "\n",
    "# Load the Wine dataset\n",
    "wine = load_wine()\n",
    "X_wine = wine.data\n",
    "\n",
    "# Standardize the features\n",
    "wscaler = StandardScaler()\n",
    "X_scaled_ = wscaler.fit_transform(X_wine)\n",
    "\n",
    "# Initialize clustering algorithms\n",
    "kmeans_ = KMeans(n_clusters=3, random_state=42, n_init=10)\n",
    "dbscan_ = DBSCAN(eps=0.5, min_samples=5)\n",
    "hierarchical_ = AgglomerativeClustering(n_clusters=3)\n",
    "\n",
    "# Fit the models\n",
    "kmeans_.fit(X_scaled_)\n",
    "dbscan_.fit(X_scaled_)\n",
    "hierarchical_.fit(X_scaled_)\n",
    "\n",
    "# Evaluate the performance\n",
    "kmeans_silhouette_ = silhouette_score(X_scaled_, kmeans_.labels_)\n",
    "#dbscan_silhouette_ = silhouette_score(X_scaled_, dbscan_.labels_)\n",
    "hierarchical_silhouette_ = silhouette_score(X_scaled_, hierarchical_.labels_)\n",
    "\n",
    "print(f\"K-Means Silhouette Score: {kmeans_silhouette_:.2f}\")\n",
    "#print(f\"DBScan Silhouette Score: {dbscan_silhouette_:.2f}\")\n",
    "print(f\"Hierarchical Silhouette Score: {hierarchical_silhouette_:.2f}\")\n"
   ]
  }
 ],
 "metadata": {
  "kernelspec": {
   "display_name": "Python 3 (ipykernel)",
   "language": "python",
   "name": "python3"
  },
  "language_info": {
   "codemirror_mode": {
    "name": "ipython",
    "version": 3
   },
   "file_extension": ".py",
   "mimetype": "text/x-python",
   "name": "python",
   "nbconvert_exporter": "python",
   "pygments_lexer": "ipython3",
   "version": "3.11.4"
  }
 },
 "nbformat": 4,
 "nbformat_minor": 5
}
