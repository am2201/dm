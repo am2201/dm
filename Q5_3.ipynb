{
 "cells": [
  {
   "cell_type": "code",
   "execution_count": 2,
   "id": "1ffe2277-8722-450a-a792-045721fabdd8",
   "metadata": {},
   "outputs": [],
   "source": [
    "import numpy as np\n",
    "import pandas as pd\n",
    "from sklearn.datasets import load_iris, load_wine\n",
    "from sklearn.model_selection import train_test_split\n",
    "from sklearn.naive_bayes import GaussianNB\n",
    "from sklearn.neighbors import KNeighborsClassifier\n",
    "from sklearn.tree import DecisionTreeClassifier\n",
    "from sklearn.metrics import accuracy_score\n",
    "from sklearn.preprocessing import StandardScaler"
   ]
  },
  {
   "cell_type": "markdown",
   "id": "b25d0386-88ba-4156-84bf-0108f29eb133",
   "metadata": {},
   "source": [
    "**Iris Dataset**"
   ]
  },
  {
   "cell_type": "code",
   "execution_count": 3,
   "id": "f2480e5a-8ac1-4207-8692-fb27e96ea510",
   "metadata": {},
   "outputs": [
    {
     "name": "stdout",
     "output_type": "stream",
     "text": [
      "Accuracy using hold-out method:\n",
      "Naive Bayes: 1.0000\n",
      "K-Nearest Neighbors: 1.0000\n",
      "Decision Tree: 1.0000\n",
      "\n"
     ]
    }
   ],
   "source": [
    "# Load the Iris dataset\n",
    "iris = load_iris()\n",
    "X, y = iris.data, iris.target\n",
    "\n",
    "# Split the dataset into training and test sets using hold-out method (75% train, 25% test)\n",
    "X_train, X_test, y_train, y_test = train_test_split(X, y, test_size=0.25, random_state=42)\n",
    "\n",
    "# Standardize the data\n",
    "iscaler = StandardScaler()\n",
    "X_train_scaled = iscaler.fit_transform(X_train)\n",
    "X_test_scaled = iscaler.transform(X_test)\n",
    "\n",
    "# Initialize classifiers\n",
    "nb_classifier = GaussianNB()\n",
    "knn_classifier = KNeighborsClassifier(n_neighbors=3)\n",
    "dt_classifier = DecisionTreeClassifier(random_state=42)\n",
    "\n",
    "# Fit classifiers to training data\n",
    "nb_classifier.fit(X_train_scaled, y_train)\n",
    "knn_classifier.fit(X_train_scaled, y_train)\n",
    "dt_classifier.fit(X_train_scaled, y_train)\n",
    "\n",
    "# Make predictions on test data\n",
    "nb_predictions = nb_classifier.predict(X_test_scaled)\n",
    "knn_predictions = knn_classifier.predict(X_test_scaled)\n",
    "dt_predictions = dt_classifier.predict(X_test_scaled)\n",
    "\n",
    "# Calculate accuracy for each classifier\n",
    "nb_accuracy = accuracy_score(y_test, nb_predictions)\n",
    "knn_accuracy = accuracy_score(y_test, knn_predictions)\n",
    "dt_accuracy = accuracy_score(y_test, dt_predictions)\n",
    "\n",
    "print(\"Accuracy using hold-out method:\")\n",
    "print(f\"Naive Bayes: {nb_accuracy:.4f}\")\n",
    "print(f\"K-Nearest Neighbors: {knn_accuracy:.4f}\")\n",
    "print(f\"Decision Tree: {dt_accuracy:.4f}\")\n",
    "print()"
   ]
  },
  {
   "cell_type": "markdown",
   "id": "d7e44212-fdc4-4d52-851e-a309ab072bcb",
   "metadata": {},
   "source": [
    "**Wine Dataset**"
   ]
  },
  {
   "cell_type": "code",
   "execution_count": 5,
   "id": "e614f0eb-9b09-4c83-aadb-4a986f9f1aa3",
   "metadata": {},
   "outputs": [
    {
     "name": "stdout",
     "output_type": "stream",
     "text": [
      "Accuracy using hold-out method:\n",
      "Naive Bayes: 1.0000\n",
      "K-Nearest Neighbors: 1.0000\n",
      "Decision Tree: 1.0000\n",
      "\n"
     ]
    }
   ],
   "source": [
    "# Load the Iris dataset\n",
    "wine = load_wine()\n",
    "X_wine, y_wine = wine.data, wine.target\n",
    "\n",
    "# Split the dataset into training and test sets using hold-out method (75% train, 25% test)\n",
    "X_train_, X_test_, y_train_, y_test_ = train_test_split(X, y, test_size=0.25, random_state=42)\n",
    "\n",
    "# Standardize the data\n",
    "wscaler = StandardScaler()\n",
    "X_train_scaled_ = wscaler.fit_transform(X_train_)\n",
    "X_test_scaled_ = wscaler.transform(X_test_)\n",
    "\n",
    "# Initialize classifiers\n",
    "nb_classifier_ = GaussianNB()\n",
    "knn_classifier_ = KNeighborsClassifier(n_neighbors=3)\n",
    "dt_classifier_ = DecisionTreeClassifier(random_state=42)\n",
    "\n",
    "# Fit classifiers to training data\n",
    "nb_classifier_.fit(X_train_scaled_, y_train)\n",
    "knn_classifier_.fit(X_train_scaled_, y_train)\n",
    "dt_classifier_.fit(X_train_scaled_, y_train)\n",
    "\n",
    "# Make predictions on test data\n",
    "nb_predictions_ = nb_classifier_.predict(X_test_scaled_)\n",
    "knn_predictions_ = knn_classifier_.predict(X_test_scaled_)\n",
    "dt_predictions_ = dt_classifier_.predict(X_test_scaled_)\n",
    "\n",
    "# Calculate accuracy for each classifier\n",
    "nb_accuracy_ = accuracy_score(y_test, nb_predictions_)\n",
    "knn_accuracy_ = accuracy_score(y_test, knn_predictions_)\n",
    "dt_accuracy_ = accuracy_score(y_test, dt_predictions_)\n",
    "\n",
    "print(\"Accuracy using hold-out method:\")\n",
    "print(f\"Naive Bayes: {nb_accuracy_:.4f}\")\n",
    "print(f\"K-Nearest Neighbors: {knn_accuracy_:.4f}\")\n",
    "print(f\"Decision Tree: {dt_accuracy_:.4f}\")\n",
    "print()"
   ]
  }
 ],
 "metadata": {
  "kernelspec": {
   "display_name": "Python 3 (ipykernel)",
   "language": "python",
   "name": "python3"
  },
  "language_info": {
   "codemirror_mode": {
    "name": "ipython",
    "version": 3
   },
   "file_extension": ".py",
   "mimetype": "text/x-python",
   "name": "python",
   "nbconvert_exporter": "python",
   "pygments_lexer": "ipython3",
   "version": "3.11.4"
  }
 },
 "nbformat": 4,
 "nbformat_minor": 5
}
